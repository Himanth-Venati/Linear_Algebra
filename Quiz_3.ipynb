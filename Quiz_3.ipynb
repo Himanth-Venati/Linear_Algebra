{
 "cells": [
  {
   "cell_type": "code",
   "execution_count": 1,
   "metadata": {},
   "outputs": [],
   "source": [
    "import numpy as np"
   ]
  },
  {
   "cell_type": "markdown",
   "metadata": {},
   "source": [
    "Linear Algebra Quiz 3"
   ]
  },
  {
   "cell_type": "code",
   "execution_count": 2,
   "metadata": {},
   "outputs": [],
   "source": [
    "A=[[3,1,2],[-5,4,1],[0,3,-8]]\n",
    "B=[[0,5,-1],[3,2,-1],[10,0.5,4]]\n",
    "C=[0.6,-15,2,5,98]\n",
    "D=[[2,2,-4],[9,-14,0],[13,-0.5,44],[1,9,4],[0,0,5]]\n",
    "# matrix multiplication using numpy"
   ]
  },
  {
   "cell_type": "code",
   "execution_count": 3,
   "metadata": {},
   "outputs": [
    {
     "data": {
      "text/plain": [
       "array([-102.8,  255.2,  595.6])"
      ]
     },
     "execution_count": 3,
     "metadata": {},
     "output_type": "execute_result"
    }
   ],
   "source": [
    "#sucesseful because 1*5 and 5*3 resultant mantrix is 1*3\n",
    "E=np.dot(C,D)\n",
    "E"
   ]
  },
  {
   "cell_type": "code",
   "execution_count": null,
   "metadata": {},
   "outputs": [],
   "source": [
    "# The matrix is not defined because of its rows and colomns\n",
    "F=np.matmul(D,C)"
   ]
  },
  {
   "cell_type": "markdown",
   "metadata": {},
   "source": [
    "Inverse of a matrix"
   ]
  },
  {
   "cell_type": "code",
   "execution_count": 13,
   "metadata": {},
   "outputs": [
    {
     "data": {
      "text/plain": [
       "array([[ 3,  1,  2],\n",
       "       [-5,  4,  1],\n",
       "       [ 0,  3, -8]])"
      ]
     },
     "execution_count": 13,
     "metadata": {},
     "output_type": "execute_result"
    }
   ],
   "source": [
    "A=np.array([[3,1,2],[-5,4,1],[0,3,-8]])\n",
    "A\n"
   ]
  },
  {
   "cell_type": "code",
   "execution_count": 10,
   "metadata": {},
   "outputs": [
    {
     "data": {
      "text/plain": [
       "array([[ 0.2       , -0.08      ,  0.04      ],\n",
       "       [ 0.22857143,  0.13714286,  0.07428571],\n",
       "       [ 0.08571429,  0.05142857, -0.09714286]])"
      ]
     },
     "execution_count": 10,
     "metadata": {},
     "output_type": "execute_result"
    }
   ],
   "source": [
    "np.linalg.inv(A)"
   ]
  }
 ],
 "metadata": {
  "interpreter": {
   "hash": "8e98eea00a698c66ff9007bd5a8bf6209cdaa78d416205c57d24ef9296d8223a"
  },
  "kernelspec": {
   "display_name": "Python 3.8.12 64-bit ('strive': conda)",
   "language": "python",
   "name": "python3"
  },
  "language_info": {
   "codemirror_mode": {
    "name": "ipython",
    "version": 3
   },
   "file_extension": ".py",
   "mimetype": "text/x-python",
   "name": "python",
   "nbconvert_exporter": "python",
   "pygments_lexer": "ipython3",
   "version": "3.8.12"
  },
  "orig_nbformat": 4
 },
 "nbformat": 4,
 "nbformat_minor": 2
}
